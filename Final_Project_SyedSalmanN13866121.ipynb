{
 "cells": [
  {
   "cell_type": "markdown",
   "metadata": {},
   "source": [
    "# Author: <font color = 'brown'> Syed Salman Rahman (N13866121)</font>"
   ]
  },
  {
   "cell_type": "markdown",
   "metadata": {},
   "source": [
    "# <font color='blue'> Where and what type of Recycle Stations should be newly deployed in NYC? </font>"
   ]
  },
  {
   "cell_type": "markdown",
   "metadata": {},
   "source": [
    "# <u>Context/Research Question</u>\n",
    "\n",
    "## New York residents are estimated to produce approximately 12,000 tonnes of waste everyday. Each year a significant amount of the tax has to be allocated for collection, disposal and sending of waste to landfills. Landfills are responsible for 36% of all methane emissions in the US, one of the most potent contributors to global warming.\n",
    "\n",
    "## In the light of the exorbitant and long term environmental and economical effects, New York City has declared a 20 year Solid Waste Management Plan to reduce its waste disposal.\n",
    "## Recycling  is undoubtedly one of the most vital part in order to achieve this goal. Currently it is found out that residential recycling rate stands at around 18%.\n",
    "## Currently, recycling stations are situated around the different boroughs of New York City. In this case study, I will examine the distribution of different types recycle stations across New York City's 5 boroughs and attempt to design a strategy for where to add more recycle stations in general and recommendations for deployment of specific waste recycling stations to fulfill inadequacies in each boroughs."
   ]
  },
  {
   "cell_type": "code",
   "execution_count": 172,
   "metadata": {},
   "outputs": [],
   "source": [
    "#importing all necessary libraries and packages\n",
    "\n",
    "import pandas as pd \n",
    "import numpy as np\n",
    "import os\n",
    "import math\n",
    "import dash                     \n",
    "import dash_table\n",
    "import dash_core_components as dcc\n",
    "import dash_html_components as html\n",
    "from dash.dependencies import Input, Output\n",
    "\n",
    "import plotly.offline as py \n",
    "import plotly.graph_objs as go \n",
    "\n",
    "#N.B: In order to run this, install dash and plotly components too on conda."
   ]
  },
  {
   "cell_type": "markdown",
   "metadata": {},
   "source": [
    "# <u>Dataset</u>\n",
    "\n",
    "## The dataset used for this case study is a compilation of multiple datasets consisting data on different types of recycling stations from *The City of New York, Department of Sanitation (DSNY)*.\n",
    "\n",
    "## The dataset consists of: 1. Name of the site of the recycling station, 2. Borough the station is situated at, 3. Specific address in text, 4. Longitude and Latitude coordinates of the station,    5. Type of recycling station.\n",
    "\n",
    "### 1. https://data.cityofnewyork.us/Environment/Electronics-Drop-Off-Locations-in-NYC/wshr-5vic\n",
    "\n",
    "### 2. https://data.cityofnewyork.us/Environment/Public-Recycling-Bins/sxx4-xhzg\n",
    "\n",
    "### 3. https://data.cityofnewyork.us/Environment/Food-Scrap-Drop-Off-Locations-in-NYC-Map-/qfn2-4jea\n",
    "\n",
    "\n",
    "\n",
    "\n",
    "** Compiled Database: https://cutt.ly/2QvRPsz"
   ]
  },
  {
   "cell_type": "code",
   "execution_count": 173,
   "metadata": {},
   "outputs": [],
   "source": [
    "bins_df = pd.read_csv(\"finalrecycling.csv\") # loading the data set to pandas"
   ]
  },
  {
   "cell_type": "code",
   "execution_count": 174,
   "metadata": {},
   "outputs": [
    {
     "name": "stdout",
     "output_type": "stream",
     "text": [
      "Hotspot dataframe dimensions: 787 rows, 8 columns\n"
     ]
    }
   ],
   "source": [
    "print('Hotspot dataframe dimensions: {} rows, {} columns'.format(bins_df.shape[0], bins_df.shape[1]))  #finding the dimension of the dataframe"
   ]
  },
  {
   "cell_type": "code",
   "execution_count": 175,
   "metadata": {},
   "outputs": [
    {
     "data": {
      "text/plain": [
       "Index(['name_location', 'boro', 'address_area', 'latitude', 'longitude',\n",
       "       'type', 'color', 'hov_txt'],\n",
       "      dtype='object')"
      ]
     },
     "execution_count": 175,
     "metadata": {},
     "output_type": "execute_result"
    }
   ],
   "source": [
    "bins_df.columns #column title of the DF"
   ]
  },
  {
   "cell_type": "code",
   "execution_count": 176,
   "metadata": {},
   "outputs": [
    {
     "data": {
      "text/html": [
       "<div>\n",
       "<style scoped>\n",
       "    .dataframe tbody tr th:only-of-type {\n",
       "        vertical-align: middle;\n",
       "    }\n",
       "\n",
       "    .dataframe tbody tr th {\n",
       "        vertical-align: top;\n",
       "    }\n",
       "\n",
       "    .dataframe thead th {\n",
       "        text-align: right;\n",
       "    }\n",
       "</style>\n",
       "<table border=\"1\" class=\"dataframe\">\n",
       "  <thead>\n",
       "    <tr style=\"text-align: right;\">\n",
       "      <th></th>\n",
       "      <th>name_location</th>\n",
       "      <th>boro</th>\n",
       "      <th>address_area</th>\n",
       "      <th>latitude</th>\n",
       "      <th>longitude</th>\n",
       "      <th>type</th>\n",
       "      <th>color</th>\n",
       "      <th>hov_txt</th>\n",
       "    </tr>\n",
       "  </thead>\n",
       "  <tbody>\n",
       "    <tr>\n",
       "      <td>0</td>\n",
       "      <td>Mary Mitchell Center</td>\n",
       "      <td>Bronx</td>\n",
       "      <td>2007 Mapes Ave, Bronx 10460</td>\n",
       "      <td>40.844772</td>\n",
       "      <td>-73.887226</td>\n",
       "      <td>compost</td>\n",
       "      <td>#ff00ff</td>\n",
       "      <td>compost&lt;br&gt;Name: Mary Mitchell Center &lt;br&gt;Addr...</td>\n",
       "    </tr>\n",
       "    <tr>\n",
       "      <td>1</td>\n",
       "      <td>Bronx Borough Hall Greenmarket</td>\n",
       "      <td>Bronx</td>\n",
       "      <td>Grand Concourse and 161 St, Bronx, NY, 10451</td>\n",
       "      <td>40.826920</td>\n",
       "      <td>-73.922504</td>\n",
       "      <td>compost</td>\n",
       "      <td>#ff00ff</td>\n",
       "      <td>compost&lt;br&gt;Name: Bronx Borough Hall Greenmarke...</td>\n",
       "    </tr>\n",
       "    <tr>\n",
       "      <td>2</td>\n",
       "      <td>Compost drop off BronxWorks</td>\n",
       "      <td>Bronx</td>\n",
       "      <td>1130 Grand Concourse</td>\n",
       "      <td>40.832640</td>\n",
       "      <td>-73.918774</td>\n",
       "      <td>compost</td>\n",
       "      <td>#ff00ff</td>\n",
       "      <td>compost&lt;br&gt;Name: Compost drop off BronxWorks &lt;...</td>\n",
       "    </tr>\n",
       "    <tr>\n",
       "      <td>3</td>\n",
       "      <td>Learn it, Grow it, Eat it Youthmarket</td>\n",
       "      <td>Bronx</td>\n",
       "      <td>McKinley Sq. at 169th St. &amp; Boston Road</td>\n",
       "      <td>40.831202</td>\n",
       "      <td>-73.900413</td>\n",
       "      <td>compost</td>\n",
       "      <td>#ff00ff</td>\n",
       "      <td>compost&lt;br&gt;Name: Learn it, Grow it, Eat it You...</td>\n",
       "    </tr>\n",
       "    <tr>\n",
       "      <td>4</td>\n",
       "      <td>Parkchester Greenmarket</td>\n",
       "      <td>Bronx</td>\n",
       "      <td>White Plains Rd &amp; Westchester Ave, Bronx, NY 1...</td>\n",
       "      <td>40.833022</td>\n",
       "      <td>-73.862728</td>\n",
       "      <td>compost</td>\n",
       "      <td>#ff00ff</td>\n",
       "      <td>compost&lt;br&gt;Name: Parkchester Greenmarket&lt;br&gt;Ad...</td>\n",
       "    </tr>\n",
       "  </tbody>\n",
       "</table>\n",
       "</div>"
      ],
      "text/plain": [
       "                           name_location   boro  \\\n",
       "0                  Mary Mitchell Center   Bronx   \n",
       "1         Bronx Borough Hall Greenmarket  Bronx   \n",
       "2           Compost drop off BronxWorks   Bronx   \n",
       "3  Learn it, Grow it, Eat it Youthmarket  Bronx   \n",
       "4                Parkchester Greenmarket  Bronx   \n",
       "\n",
       "                                        address_area   latitude  longitude  \\\n",
       "0                        2007 Mapes Ave, Bronx 10460  40.844772 -73.887226   \n",
       "1       Grand Concourse and 161 St, Bronx, NY, 10451  40.826920 -73.922504   \n",
       "2                               1130 Grand Concourse  40.832640 -73.918774   \n",
       "3            McKinley Sq. at 169th St. & Boston Road  40.831202 -73.900413   \n",
       "4  White Plains Rd & Westchester Ave, Bronx, NY 1...  40.833022 -73.862728   \n",
       "\n",
       "      type    color                                            hov_txt  \n",
       "0  compost  #ff00ff  compost<br>Name: Mary Mitchell Center <br>Addr...  \n",
       "1  compost  #ff00ff  compost<br>Name: Bronx Borough Hall Greenmarke...  \n",
       "2  compost  #ff00ff  compost<br>Name: Compost drop off BronxWorks <...  \n",
       "3  compost  #ff00ff  compost<br>Name: Learn it, Grow it, Eat it You...  \n",
       "4  compost  #ff00ff  compost<br>Name: Parkchester Greenmarket<br>Ad...  "
      ]
     },
     "execution_count": 176,
     "metadata": {},
     "output_type": "execute_result"
    }
   ],
   "source": [
    "bins_df.head() #sample of the data available in the DF"
   ]
  },
  {
   "cell_type": "markdown",
   "metadata": {},
   "source": [
    "# <u>Data processing</u>\n",
    "\n",
    "## 1. Converting all Longitude and Latitude data to 7 decimal places to have an uniform value for all the Longitude and Latitude data\n",
    "## 2. A column titled \"hov_text\" through a dictionary is added which will consist of Name of the site as String, Address as String, Type of Recycle station as String. This column will help in the visualization of the recycling stations in a Scatter Plot Map.\n",
    "## 3. Remove rows that contain \"empty\" or \"NaN\" values in the \"Longitude\" and \"Latitude\" variables\n",
    "## 4. Creating a dictionary consisting of Population of each borough\n",
    "## 5. Creating a dictionary consisting of Area Size of each borough\n"
   ]
  },
  {
   "cell_type": "code",
   "execution_count": 177,
   "metadata": {},
   "outputs": [],
   "source": [
    "bins_df.longitude = bins_df.longitude.round(decimals=7) #rounding all the values in longitude to 7DP\n",
    "bins_df.latitude = bins_df.latitude.round(decimals=7) #rounding all the values in latitude to 7DP\n"
   ]
  },
  {
   "cell_type": "code",
   "execution_count": 178,
   "metadata": {},
   "outputs": [],
   "source": [
    "bins_df = bins_df.replace(\"\", np.NaN) #replacing all the empty values to NaN\n",
    "bins_df.dropna(inplace=True) #Removing cells containing the empty cell values"
   ]
  },
  {
   "cell_type": "code",
   "execution_count": 179,
   "metadata": {},
   "outputs": [
    {
     "data": {
      "text/html": [
       "<div>\n",
       "<style scoped>\n",
       "    .dataframe tbody tr th:only-of-type {\n",
       "        vertical-align: middle;\n",
       "    }\n",
       "\n",
       "    .dataframe tbody tr th {\n",
       "        vertical-align: top;\n",
       "    }\n",
       "\n",
       "    .dataframe thead th {\n",
       "        text-align: right;\n",
       "    }\n",
       "</style>\n",
       "<table border=\"1\" class=\"dataframe\">\n",
       "  <thead>\n",
       "    <tr style=\"text-align: right;\">\n",
       "      <th></th>\n",
       "      <th>name_location</th>\n",
       "      <th>boro</th>\n",
       "      <th>address_area</th>\n",
       "      <th>latitude</th>\n",
       "      <th>longitude</th>\n",
       "      <th>type</th>\n",
       "      <th>color</th>\n",
       "      <th>hov_txt</th>\n",
       "    </tr>\n",
       "  </thead>\n",
       "  <tbody>\n",
       "    <tr>\n",
       "      <td>0</td>\n",
       "      <td>Mary Mitchell Center</td>\n",
       "      <td>Bronx</td>\n",
       "      <td>2007 Mapes Ave, Bronx 10460</td>\n",
       "      <td>40.844772</td>\n",
       "      <td>-73.887226</td>\n",
       "      <td>compost</td>\n",
       "      <td>#ff00ff</td>\n",
       "      <td>compost&lt;br&gt;Name: Mary Mitchell Center &lt;br&gt;Addr...</td>\n",
       "    </tr>\n",
       "    <tr>\n",
       "      <td>1</td>\n",
       "      <td>Bronx Borough Hall Greenmarket</td>\n",
       "      <td>Bronx</td>\n",
       "      <td>Grand Concourse and 161 St, Bronx, NY, 10451</td>\n",
       "      <td>40.826920</td>\n",
       "      <td>-73.922504</td>\n",
       "      <td>compost</td>\n",
       "      <td>#ff00ff</td>\n",
       "      <td>compost&lt;br&gt;Name: Bronx Borough Hall Greenmarke...</td>\n",
       "    </tr>\n",
       "    <tr>\n",
       "      <td>2</td>\n",
       "      <td>Compost drop off BronxWorks</td>\n",
       "      <td>Bronx</td>\n",
       "      <td>1130 Grand Concourse</td>\n",
       "      <td>40.832640</td>\n",
       "      <td>-73.918774</td>\n",
       "      <td>compost</td>\n",
       "      <td>#ff00ff</td>\n",
       "      <td>compost&lt;br&gt;Name: Compost drop off BronxWorks &lt;...</td>\n",
       "    </tr>\n",
       "    <tr>\n",
       "      <td>3</td>\n",
       "      <td>Learn it, Grow it, Eat it Youthmarket</td>\n",
       "      <td>Bronx</td>\n",
       "      <td>McKinley Sq. at 169th St. &amp; Boston Road</td>\n",
       "      <td>40.831202</td>\n",
       "      <td>-73.900413</td>\n",
       "      <td>compost</td>\n",
       "      <td>#ff00ff</td>\n",
       "      <td>compost&lt;br&gt;Name: Learn it, Grow it, Eat it You...</td>\n",
       "    </tr>\n",
       "    <tr>\n",
       "      <td>4</td>\n",
       "      <td>Parkchester Greenmarket</td>\n",
       "      <td>Bronx</td>\n",
       "      <td>White Plains Rd &amp; Westchester Ave, Bronx, NY 1...</td>\n",
       "      <td>40.833022</td>\n",
       "      <td>-73.862728</td>\n",
       "      <td>compost</td>\n",
       "      <td>#ff00ff</td>\n",
       "      <td>compost&lt;br&gt;Name: Parkchester Greenmarket&lt;br&gt;Ad...</td>\n",
       "    </tr>\n",
       "  </tbody>\n",
       "</table>\n",
       "</div>"
      ],
      "text/plain": [
       "                           name_location   boro  \\\n",
       "0                  Mary Mitchell Center   Bronx   \n",
       "1         Bronx Borough Hall Greenmarket  Bronx   \n",
       "2           Compost drop off BronxWorks   Bronx   \n",
       "3  Learn it, Grow it, Eat it Youthmarket  Bronx   \n",
       "4                Parkchester Greenmarket  Bronx   \n",
       "\n",
       "                                        address_area   latitude  longitude  \\\n",
       "0                        2007 Mapes Ave, Bronx 10460  40.844772 -73.887226   \n",
       "1       Grand Concourse and 161 St, Bronx, NY, 10451  40.826920 -73.922504   \n",
       "2                               1130 Grand Concourse  40.832640 -73.918774   \n",
       "3            McKinley Sq. at 169th St. & Boston Road  40.831202 -73.900413   \n",
       "4  White Plains Rd & Westchester Ave, Bronx, NY 1...  40.833022 -73.862728   \n",
       "\n",
       "      type    color                                            hov_txt  \n",
       "0  compost  #ff00ff  compost<br>Name: Mary Mitchell Center <br>Addr...  \n",
       "1  compost  #ff00ff  compost<br>Name: Bronx Borough Hall Greenmarke...  \n",
       "2  compost  #ff00ff  compost<br>Name: Compost drop off BronxWorks <...  \n",
       "3  compost  #ff00ff  compost<br>Name: Learn it, Grow it, Eat it You...  \n",
       "4  compost  #ff00ff  compost<br>Name: Parkchester Greenmarket<br>Ad...  "
      ]
     },
     "execution_count": 179,
     "metadata": {},
     "output_type": "execute_result"
    }
   ],
   "source": [
    "bins_df.head()"
   ]
  },
  {
   "cell_type": "markdown",
   "metadata": {},
   "source": [
    "Longitude and latitude data have uniform decimal places.\n",
    "Rows with empty cell values are removed."
   ]
  },
  {
   "cell_type": "code",
   "execution_count": 180,
   "metadata": {},
   "outputs": [],
   "source": [
    "#Creating a dictionary consisting population of each boro. Extracted from the \"Week 4: Wifi Hotspot\" Case study.\n",
    "\n",
    "population_dict = {\n",
    "                'Manhattan' : 1628706,\n",
    "                'Brooklyn' : 2559903,\n",
    "                'Queens' : 2253858,\n",
    "                'Bronx' : 1418207,\n",
    "                'StatenIsland' : 476143 \n",
    "}\n",
    "\n"
   ]
  },
  {
   "cell_type": "code",
   "execution_count": 181,
   "metadata": {},
   "outputs": [],
   "source": [
    "#Creating a dictionary consisting area size of each boro. Extracted from the \"Week 4: Wifi Hotspot\" Case study.\n",
    "\n",
    "area_dict = {\n",
    "            'Manhattan' : 22.83,\n",
    "            'Brooklyn' : 70.82,\n",
    "            'Queens' : 108.53,\n",
    "            'Bronx' : 42.10,\n",
    "            'StatenIsland' : 58.37 \n",
    "        }\n"
   ]
  },
  {
   "cell_type": "markdown",
   "metadata": {},
   "source": [
    "# <u>Analysis</u>\n",
    "\n",
    "## <font color = \"Blue\">1. Finding the density of all recycle stations over population in each borough.</font>\n",
    "### If we can figure out the ratio of recycling station to the population of each borough, we can find the disparity in the distribution.\n",
    "\n"
   ]
  },
  {
   "cell_type": "code",
   "execution_count": 182,
   "metadata": {},
   "outputs": [
    {
     "data": {
      "text/plain": [
       "Manhattan        293\n",
       "Queens           158\n",
       "Bronx            142\n",
       "Brooklyn         139\n",
       "Staten Island     51\n",
       "Name: boro, dtype: int64"
      ]
     },
     "execution_count": 182,
     "metadata": {},
     "output_type": "execute_result"
    }
   ],
   "source": [
    "#Number of recycle stations situated at each Borough\n",
    "\n",
    "boro_counts = bins_df.boro.value_counts() \n",
    "boro_counts"
   ]
  },
  {
   "cell_type": "markdown",
   "metadata": {},
   "source": [
    "### We can see Manhattan has the highest no. of Recycling Stations. A good way to proceed is to see the distrubtion of the recycling stations when adjusted with the population."
   ]
  },
  {
   "cell_type": "code",
   "execution_count": 183,
   "metadata": {},
   "outputs": [
    {
     "data": {
      "text/html": [
       "<div>\n",
       "<style scoped>\n",
       "    .dataframe tbody tr th:only-of-type {\n",
       "        vertical-align: middle;\n",
       "    }\n",
       "\n",
       "    .dataframe tbody tr th {\n",
       "        vertical-align: top;\n",
       "    }\n",
       "\n",
       "    .dataframe thead th {\n",
       "        text-align: right;\n",
       "    }\n",
       "</style>\n",
       "<table border=\"1\" class=\"dataframe\">\n",
       "  <thead>\n",
       "    <tr style=\"text-align: right;\">\n",
       "      <th></th>\n",
       "      <th>Boro</th>\n",
       "      <th>N_bins</th>\n",
       "      <th>Population</th>\n",
       "    </tr>\n",
       "  </thead>\n",
       "  <tbody>\n",
       "    <tr>\n",
       "      <td>0</td>\n",
       "      <td>Manhattan</td>\n",
       "      <td>293</td>\n",
       "      <td>1628706</td>\n",
       "    </tr>\n",
       "    <tr>\n",
       "      <td>1</td>\n",
       "      <td>Brooklyn</td>\n",
       "      <td>139</td>\n",
       "      <td>2559903</td>\n",
       "    </tr>\n",
       "    <tr>\n",
       "      <td>2</td>\n",
       "      <td>Queens</td>\n",
       "      <td>162</td>\n",
       "      <td>2253858</td>\n",
       "    </tr>\n",
       "    <tr>\n",
       "      <td>3</td>\n",
       "      <td>Bronx</td>\n",
       "      <td>142</td>\n",
       "      <td>1418207</td>\n",
       "    </tr>\n",
       "    <tr>\n",
       "      <td>4</td>\n",
       "      <td>StatenIsland</td>\n",
       "      <td>51</td>\n",
       "      <td>476143</td>\n",
       "    </tr>\n",
       "  </tbody>\n",
       "</table>\n",
       "</div>"
      ],
      "text/plain": [
       "           Boro  N_bins  Population\n",
       "0     Manhattan     293     1628706\n",
       "1      Brooklyn     139     2559903\n",
       "2        Queens     162     2253858\n",
       "3         Bronx     142     1418207\n",
       "4  StatenIsland      51      476143"
      ]
     },
     "execution_count": 183,
     "metadata": {},
     "output_type": "execute_result"
    }
   ],
   "source": [
    "#Dictionary containing the Boro Names, Number of bins and the population in the respective boroughs\n",
    "\n",
    "bins_plots = {\n",
    "    'Boro':['Manhattan','Brooklyn','Queens','Bronx','StatenIsland'],\n",
    "    'N_bins':[293,139,162,142,51],\n",
    "    'Population':[1628706,2559903,2253858,1418207,476143],\n",
    "} \n",
    "bins_plots = pd.DataFrame(data=bins_plots)\n",
    "bins_plots"
   ]
  },
  {
   "cell_type": "code",
   "execution_count": 184,
   "metadata": {},
   "outputs": [
    {
     "data": {
      "text/html": [
       "<div>\n",
       "<style scoped>\n",
       "    .dataframe tbody tr th:only-of-type {\n",
       "        vertical-align: middle;\n",
       "    }\n",
       "\n",
       "    .dataframe tbody tr th {\n",
       "        vertical-align: top;\n",
       "    }\n",
       "\n",
       "    .dataframe thead th {\n",
       "        text-align: right;\n",
       "    }\n",
       "</style>\n",
       "<table border=\"1\" class=\"dataframe\">\n",
       "  <thead>\n",
       "    <tr style=\"text-align: right;\">\n",
       "      <th></th>\n",
       "      <th>Boro</th>\n",
       "      <th>N_bins</th>\n",
       "      <th>Population</th>\n",
       "    </tr>\n",
       "  </thead>\n",
       "  <tbody>\n",
       "    <tr>\n",
       "      <td>0</td>\n",
       "      <td>Manhattan</td>\n",
       "      <td>0.372300</td>\n",
       "      <td>0.195363</td>\n",
       "    </tr>\n",
       "    <tr>\n",
       "      <td>1</td>\n",
       "      <td>Brooklyn</td>\n",
       "      <td>0.176620</td>\n",
       "      <td>0.307060</td>\n",
       "    </tr>\n",
       "    <tr>\n",
       "      <td>2</td>\n",
       "      <td>Queens</td>\n",
       "      <td>0.205845</td>\n",
       "      <td>0.270350</td>\n",
       "    </tr>\n",
       "    <tr>\n",
       "      <td>3</td>\n",
       "      <td>Bronx</td>\n",
       "      <td>0.180432</td>\n",
       "      <td>0.170114</td>\n",
       "    </tr>\n",
       "    <tr>\n",
       "      <td>4</td>\n",
       "      <td>StatenIsland</td>\n",
       "      <td>0.064803</td>\n",
       "      <td>0.057113</td>\n",
       "    </tr>\n",
       "  </tbody>\n",
       "</table>\n",
       "</div>"
      ],
      "text/plain": [
       "           Boro    N_bins  Population\n",
       "0     Manhattan  0.372300    0.195363\n",
       "1      Brooklyn  0.176620    0.307060\n",
       "2        Queens  0.205845    0.270350\n",
       "3         Bronx  0.180432    0.170114\n",
       "4  StatenIsland  0.064803    0.057113"
      ]
     },
     "execution_count": 184,
     "metadata": {},
     "output_type": "execute_result"
    }
   ],
   "source": [
    "#Normalizing all the data to get a better plot \n",
    "\n",
    "def normalize_columns(col):\n",
    "  sum_val = sum(col)\n",
    "  normalized_val = col/sum_val\n",
    "  return normalized_val \n",
    "\n",
    "#plotting the no.of bins against the population at each borough\n",
    "\n",
    "bins_plots[[\"N_bins\", \"Population\"]] = bins_plots[[\"N_bins\", \"Population\"]].apply(normalize_columns)\n",
    "bins_plots "
   ]
  },
  {
   "cell_type": "code",
   "execution_count": 185,
   "metadata": {},
   "outputs": [
    {
     "data": {
      "text/plain": [
       "<matplotlib.axes._subplots.AxesSubplot at 0x7fbe6ff52210>"
      ]
     },
     "execution_count": 185,
     "metadata": {},
     "output_type": "execute_result"
    },
    {
     "data": {
      "image/png": "[encoded data removed]",
      "text/plain": [
       "<Figure size 432x288 with 1 Axes>"
      ]
     },
     "metadata": {
      "needs_background": "light"
     },
     "output_type": "display_data"
    }
   ],
   "source": [
    "bins_plots.plot(x='Boro',kind='bar',stacked=False)"
   ]
  },
  {
   "cell_type": "code",
   "execution_count": 186,
   "metadata": {},
   "outputs": [
    {
     "data": {
      "text/html": [
       "<div>\n",
       "<style scoped>\n",
       "    .dataframe tbody tr th:only-of-type {\n",
       "        vertical-align: middle;\n",
       "    }\n",
       "\n",
       "    .dataframe tbody tr th {\n",
       "        vertical-align: top;\n",
       "    }\n",
       "\n",
       "    .dataframe thead th {\n",
       "        text-align: right;\n",
       "    }\n",
       "</style>\n",
       "<table border=\"1\" class=\"dataframe\">\n",
       "  <thead>\n",
       "    <tr style=\"text-align: right;\">\n",
       "      <th></th>\n",
       "      <th>Boro</th>\n",
       "      <th>ratio</th>\n",
       "    </tr>\n",
       "  </thead>\n",
       "  <tbody>\n",
       "    <tr>\n",
       "      <td>0</td>\n",
       "      <td>Manhattan</td>\n",
       "      <td>0.524746</td>\n",
       "    </tr>\n",
       "    <tr>\n",
       "      <td>1</td>\n",
       "      <td>Brooklyn</td>\n",
       "      <td>1.738534</td>\n",
       "    </tr>\n",
       "    <tr>\n",
       "      <td>2</td>\n",
       "      <td>Queens</td>\n",
       "      <td>1.313367</td>\n",
       "    </tr>\n",
       "    <tr>\n",
       "      <td>3</td>\n",
       "      <td>Bronx</td>\n",
       "      <td>0.942813</td>\n",
       "    </tr>\n",
       "    <tr>\n",
       "      <td>4</td>\n",
       "      <td>StatenIsland</td>\n",
       "      <td>0.881336</td>\n",
       "    </tr>\n",
       "  </tbody>\n",
       "</table>\n",
       "</div>"
      ],
      "text/plain": [
       "           Boro     ratio\n",
       "0     Manhattan  0.524746\n",
       "1      Brooklyn  1.738534\n",
       "2        Queens  1.313367\n",
       "3         Bronx  0.942813\n",
       "4  StatenIsland  0.881336"
      ]
     },
     "execution_count": 186,
     "metadata": {},
     "output_type": "execute_result"
    }
   ],
   "source": [
    "#Ratio of Population to No. of Bins in each borough\n",
    "\n",
    "bins_plots['ratio'] = bins_plots.apply(lambda x: x['Population']/x['N_bins'], axis=1)\n",
    "bins_plots[['Boro','ratio']]"
   ]
  },
  {
   "cell_type": "markdown",
   "metadata": {},
   "source": [
    "###  <font color = \"blue\"> We can finally see the number of people in each boro sharing a recycle station: </font>"
   ]
  },
  {
   "cell_type": "code",
   "execution_count": 187,
   "metadata": {},
   "outputs": [
    {
     "name": "stdout",
     "output_type": "stream",
     "text": [
      "There are 9,987.37 people for every recycle staion in Bronx\n",
      "There are 5,558.72 people for every recycle staion in Manhattan\n",
      "There are 14,264.92 people for every recycle staion in Queens\n",
      "There are 18,416.57 people for every recycle staion in Brooklyn\n",
      "There are 9,336 people for every recycle staion in 2 Staten Island\n"
     ]
    }
   ],
   "source": [
    "population_dict = {\n",
    "    'Manhattan' : 1628706,\n",
    "    'Brooklyn' : 2559903,\n",
    "    'Queens' : 2253858,\n",
    "    'Bronx' : 1418207,\n",
    "}\n",
    "StatenIsland = 476143 \n",
    "population_dict = {key: value for key, value in sorted(population_dict.items(), key=lambda item: item[1])}\n",
    "\n",
    "for val in population_dict:\n",
    "    print(\"There are {:,} people for every recycle staion in {}\".format(round(population_dict[val]/boro_counts[val],2),val))\n",
    "\n",
    "print(\"There are {:,} people for every recycle staion in {}\".format(round(StatenIsland/51),2), \"Staten Island\")"
   ]
  },
  {
   "cell_type": "markdown",
   "metadata": {},
   "source": [
    "### <font color = 'green'><b>It can be infered that Brooklyn has the highest number of resident who has to share a recycling station in average. Based on this, number of recycling stations should be added to Brooklyn.</b> </font>"
   ]
  },
  {
   "cell_type": "markdown",
   "metadata": {},
   "source": [
    "## <font color = \"Blue\"> 2. Density of all recycle stations over area size of each borough</font>"
   ]
  },
  {
   "cell_type": "code",
   "execution_count": 188,
   "metadata": {},
   "outputs": [
    {
     "name": "stdout",
     "output_type": "stream",
     "text": [
      "There are 3.37 recycle stations for every square mile in Bronx\n",
      "There are 12.83 recycle stations for every square mile in Manhattan\n",
      "There are 1.46 recycle stations for every square mile in Queens\n",
      "There are 1.96 recycle stations for every square mile in Brooklyn\n"
     ]
    }
   ],
   "source": [
    "area_dict = {\n",
    "            'Manhattan' : 22.83,\n",
    "            'Brooklyn' : 70.82,\n",
    "            'Queens' : 108.53,\n",
    "            'Bronx' : 42.10,\n",
    "            'StatenIsland' : 58.37 \n",
    "        }\n",
    "area_dict = {key: value for key, value in sorted(area_dict.items(), key=lambda item: item[1])}\n",
    "\n",
    "for val in population_dict:\n",
    "    print(\"There are {:,} recycle stations for every square mile in {}\".format(round(boro_counts[val]/area_dict[val],2),val))"
   ]
  },
  {
   "cell_type": "markdown",
   "metadata": {},
   "source": [
    "### <font color='green'> <b>Queens has the lowest recycle station per unit square mile area while Manhattan is the most densed.</b>\n",
    "</font>\n"
   ]
  },
  {
   "cell_type": "markdown",
   "metadata": {},
   "source": [
    "\n",
    "## <font color = \"Blue\"> 3. Comparison of distribution of specific type of recycling stations at different borughs</font>"
   ]
  },
  {
   "cell_type": "code",
   "execution_count": 189,
   "metadata": {},
   "outputs": [],
   "source": [
    "bins_df = pd.read_csv(\"finalrecycling.csv\")"
   ]
  },
  {
   "cell_type": "code",
   "execution_count": 190,
   "metadata": {},
   "outputs": [],
   "source": [
    "bins_df = bins_df[['boro','type']] # limiting the dataframe to only Borough names and types of recycling stations"
   ]
  },
  {
   "cell_type": "code",
   "execution_count": 191,
   "metadata": {},
   "outputs": [
    {
     "name": "stdout",
     "output_type": "stream",
     "text": [
      "\n",
      " Column: boro \n",
      "\n",
      "Bronx\n",
      "Brooklyn\n",
      "Manhattan\n",
      "Queens\n",
      "Staten Island\n",
      "\n",
      " Column: type \n",
      "\n",
      "compost\n",
      "electronics\n",
      "hazardous waste recycling\n",
      "plastic bag recycling\n",
      "public recycling bin\n"
     ]
    }
   ],
   "source": [
    "#printing all the values in the columns boro and type\n",
    "\n",
    "for col in ['boro','type']: \n",
    "  print('\\n','Column: '+col,'\\n')\n",
    "  for val in bins_df[col].unique():\n",
    "    print(val)"
   ]
  },
  {
   "cell_type": "code",
   "execution_count": 192,
   "metadata": {},
   "outputs": [],
   "source": [
    "# filtering recycling stations in all boros to \"compost\" type only.\n",
    "\n",
    "bins_df = bins_df[bins_df.type == \"compost\"]"
   ]
  },
  {
   "cell_type": "code",
   "execution_count": 193,
   "metadata": {},
   "outputs": [
    {
     "data": {
      "text/plain": [
       "compost    146\n",
       "Name: type, dtype: int64"
      ]
     },
     "execution_count": 193,
     "metadata": {},
     "output_type": "execute_result"
    }
   ],
   "source": [
    "bins_df['type'].value_counts()"
   ]
  },
  {
   "cell_type": "code",
   "execution_count": 194,
   "metadata": {},
   "outputs": [
    {
     "data": {
      "text/plain": [
       "Manhattan        70\n",
       "Queens           25\n",
       "Bronx            24\n",
       "Brooklyn         23\n",
       "Staten Island     4\n",
       "Name: boro, dtype: int64"
      ]
     },
     "execution_count": 194,
     "metadata": {},
     "output_type": "execute_result"
    }
   ],
   "source": [
    "#Segregation of compost throughtout the different boroughs\n",
    "\n",
    "boro_counts_compost = bins_df.boro.value_counts() \n",
    "boro_counts_compost"
   ]
  },
  {
   "cell_type": "markdown",
   "metadata": {},
   "source": [
    "### <font color = 'green'> <b>Staten Island has the lowest number of \"Compost\" recycling stations. So we can deploy more of this type of recycling in Staten Island.</b> </font>"
   ]
  },
  {
   "cell_type": "code",
   "execution_count": 195,
   "metadata": {},
   "outputs": [],
   "source": [
    "bins_df = pd.read_csv(\"finalrecycling.csv\")"
   ]
  },
  {
   "cell_type": "code",
   "execution_count": 196,
   "metadata": {},
   "outputs": [
    {
     "name": "stdout",
     "output_type": "stream",
     "text": [
      "\n",
      " Column: boro \n",
      "\n",
      "Bronx\n",
      "Brooklyn\n",
      "Manhattan\n",
      "Queens\n",
      "Staten Island\n",
      "\n",
      " Column: type \n",
      "\n",
      "compost\n",
      "electronics\n",
      "hazardous waste recycling\n",
      "plastic bag recycling\n",
      "public recycling bin\n"
     ]
    }
   ],
   "source": [
    "for col in ['boro','type']:\n",
    "  print('\\n','Column: '+col,'\\n')\n",
    "  for val in bins_df[col].unique():\n",
    "    print(val)"
   ]
  },
  {
   "cell_type": "code",
   "execution_count": 197,
   "metadata": {},
   "outputs": [],
   "source": [
    "bins_df = bins_df[['boro','type']]"
   ]
  },
  {
   "cell_type": "code",
   "execution_count": 198,
   "metadata": {},
   "outputs": [],
   "source": [
    "# filtering recycling stations in all boros to \"electronics\" type only.\n",
    "\n",
    "bins_df = bins_df[bins_df.type == \"electronics\"]"
   ]
  },
  {
   "cell_type": "code",
   "execution_count": 199,
   "metadata": {},
   "outputs": [
    {
     "data": {
      "text/plain": [
       "electronics    93\n",
       "Name: type, dtype: int64"
      ]
     },
     "execution_count": 199,
     "metadata": {},
     "output_type": "execute_result"
    }
   ],
   "source": [
    "bins_df['type'].value_counts()"
   ]
  },
  {
   "cell_type": "code",
   "execution_count": 200,
   "metadata": {},
   "outputs": [
    {
     "data": {
      "text/plain": [
       "Manhattan        37\n",
       "Brooklyn         22\n",
       "Queens           20\n",
       "Bronx            10\n",
       "Staten Island     4\n",
       "Name: boro, dtype: int64"
      ]
     },
     "execution_count": 200,
     "metadata": {},
     "output_type": "execute_result"
    }
   ],
   "source": [
    "boro_counts_elec = bins_df.boro.value_counts()\n",
    "boro_counts_elec"
   ]
  },
  {
   "cell_type": "markdown",
   "metadata": {},
   "source": [
    "### <font color = 'green'> <b>Staten Island has the lowest number of \"Electronics\" recycling stations. So we can deploy more of this type of recycling in Staten Island.</b> </font>"
   ]
  },
  {
   "cell_type": "code",
   "execution_count": 201,
   "metadata": {},
   "outputs": [],
   "source": [
    "bins_df = pd.read_csv(\"finalrecycling.csv\")"
   ]
  },
  {
   "cell_type": "code",
   "execution_count": 202,
   "metadata": {},
   "outputs": [
    {
     "name": "stdout",
     "output_type": "stream",
     "text": [
      "\n",
      " Column: boro \n",
      "\n",
      "Bronx\n",
      "Brooklyn\n",
      "Manhattan\n",
      "Queens\n",
      "Staten Island\n",
      "\n",
      " Column: type \n",
      "\n",
      "compost\n",
      "electronics\n",
      "hazardous waste recycling\n",
      "plastic bag recycling\n",
      "public recycling bin\n"
     ]
    }
   ],
   "source": [
    "for col in ['boro','type']:\n",
    "  print('\\n','Column: '+col,'\\n')\n",
    "  for val in bins_df[col].unique():\n",
    "    print(val)"
   ]
  },
  {
   "cell_type": "code",
   "execution_count": 203,
   "metadata": {},
   "outputs": [],
   "source": [
    "bins_df = bins_df[['boro','type']]"
   ]
  },
  {
   "cell_type": "code",
   "execution_count": 204,
   "metadata": {},
   "outputs": [],
   "source": [
    "# filtering recycling stations in all boros to \"public recycling bin\" type only.\n",
    "\n",
    "bins_df = bins_df[bins_df.type == \"public recycling bin\"]"
   ]
  },
  {
   "cell_type": "code",
   "execution_count": 205,
   "metadata": {},
   "outputs": [
    {
     "data": {
      "text/plain": [
       "public recycling bin    541\n",
       "Name: type, dtype: int64"
      ]
     },
     "execution_count": 205,
     "metadata": {},
     "output_type": "execute_result"
    }
   ],
   "source": [
    "bins_df['type'].value_counts()"
   ]
  },
  {
   "cell_type": "code",
   "execution_count": 206,
   "metadata": {},
   "outputs": [
    {
     "data": {
      "text/plain": [
       "Manhattan        183\n",
       "Queens           116\n",
       "Bronx            107\n",
       "Brooklyn          93\n",
       "Staten Island     42\n",
       "Name: boro, dtype: int64"
      ]
     },
     "execution_count": 206,
     "metadata": {},
     "output_type": "execute_result"
    }
   ],
   "source": [
    "boro_counts_prb = bins_df.boro.value_counts()\n",
    "boro_counts_prb"
   ]
  },
  {
   "cell_type": "markdown",
   "metadata": {},
   "source": [
    "### <font color = 'green'> <b>Staten Island has the lowest number of \"Public Recycling Bins\". So we can deploy more of this type of recycling in Staten Island.</b></font>"
   ]
  },
  {
   "cell_type": "markdown",
   "metadata": {},
   "source": [
    "## Final distribution looks like this"
   ]
  },
  {
   "cell_type": "code",
   "execution_count": 207,
   "metadata": {},
   "outputs": [
    {
     "data": {
      "text/html": [
       "<div>\n",
       "<style scoped>\n",
       "    .dataframe tbody tr th:only-of-type {\n",
       "        vertical-align: middle;\n",
       "    }\n",
       "\n",
       "    .dataframe tbody tr th {\n",
       "        vertical-align: top;\n",
       "    }\n",
       "\n",
       "    .dataframe thead th {\n",
       "        text-align: right;\n",
       "    }\n",
       "</style>\n",
       "<table border=\"1\" class=\"dataframe\">\n",
       "  <thead>\n",
       "    <tr style=\"text-align: right;\">\n",
       "      <th></th>\n",
       "      <th>Boro</th>\n",
       "      <th>Compost</th>\n",
       "      <th>Electronics</th>\n",
       "      <th>Public Recycle Bin</th>\n",
       "    </tr>\n",
       "  </thead>\n",
       "  <tbody>\n",
       "    <tr>\n",
       "      <td>0</td>\n",
       "      <td>Manhattan</td>\n",
       "      <td>70</td>\n",
       "      <td>37</td>\n",
       "      <td>183</td>\n",
       "    </tr>\n",
       "    <tr>\n",
       "      <td>1</td>\n",
       "      <td>Brooklyn</td>\n",
       "      <td>23</td>\n",
       "      <td>22</td>\n",
       "      <td>93</td>\n",
       "    </tr>\n",
       "    <tr>\n",
       "      <td>2</td>\n",
       "      <td>Queens</td>\n",
       "      <td>25</td>\n",
       "      <td>20</td>\n",
       "      <td>116</td>\n",
       "    </tr>\n",
       "    <tr>\n",
       "      <td>3</td>\n",
       "      <td>Bronx</td>\n",
       "      <td>24</td>\n",
       "      <td>10</td>\n",
       "      <td>107</td>\n",
       "    </tr>\n",
       "    <tr>\n",
       "      <td>4</td>\n",
       "      <td>StatenIsland</td>\n",
       "      <td>4</td>\n",
       "      <td>4</td>\n",
       "      <td>42</td>\n",
       "    </tr>\n",
       "  </tbody>\n",
       "</table>\n",
       "</div>"
      ],
      "text/plain": [
       "           Boro  Compost  Electronics  Public Recycle Bin\n",
       "0     Manhattan       70           37                 183\n",
       "1      Brooklyn       23           22                  93\n",
       "2        Queens       25           20                 116\n",
       "3         Bronx       24           10                 107\n",
       "4  StatenIsland        4            4                  42"
      ]
     },
     "execution_count": 207,
     "metadata": {},
     "output_type": "execute_result"
    }
   ],
   "source": [
    "#creating a dictionary which contains all borough names and number of the rec stations at each boro \n",
    "\n",
    "bins_plots = {\n",
    "    'Boro':['Manhattan','Brooklyn','Queens','Bronx','StatenIsland'],\n",
    "    'Compost':[70,23,25,24,4],\n",
    "    'Electronics':[37,22,20,10,4],\n",
    "    'Public Recycle Bin':[183,93,116,107,42] \n",
    "} \n",
    "\n",
    "bins_plots = pd.DataFrame(data=bins_plots)\n",
    "bins_plots"
   ]
  },
  {
   "cell_type": "code",
   "execution_count": 208,
   "metadata": {},
   "outputs": [
    {
     "data": {
      "text/plain": [
       "<matplotlib.axes._subplots.AxesSubplot at 0x7fbe706eded0>"
      ]
     },
     "execution_count": 208,
     "metadata": {},
     "output_type": "execute_result"
    },
    {
     "data": {
      "image/png": "[encoded data removed]",
      "text/plain": [
       "<Figure size 432x288 with 1 Axes>"
      ]
     },
     "metadata": {
      "needs_background": "light"
     },
     "output_type": "display_data"
    }
   ],
   "source": [
    "bins_plots.plot(x='Boro',kind='bar',stacked=True) #plotting all the different recycling stations at each borough"
   ]
  },
  {
   "cell_type": "markdown",
   "metadata": {},
   "source": [
    "## <font color = \"green\"><b>In general, Staten Island needs the most recycling stations, especially the compost and electronics type. For Bronx, the no. of Electronics recycling zones can be upgraded.</b></font>"
   ]
  },
  {
   "cell_type": "markdown",
   "metadata": {},
   "source": [
    "## <font color = \"Blue\"> 4. Illustration through Scatter Plot Map to visualize the distribution of Recycle stations throughout the New York City </font>"
   ]
  },
  {
   "cell_type": "code",
   "execution_count": 209,
   "metadata": {},
   "outputs": [
    {
     "name": "stdout",
     "output_type": "stream",
     "text": [
      "Dash is running on http://127.0.0.1:8050/\n",
      "\n",
      "Dash is running on http://127.0.0.1:8050/\n",
      "\n",
      "Dash is running on http://127.0.0.1:8050/\n",
      "\n",
      "Dash is running on http://127.0.0.1:8050/\n",
      "\n",
      "Dash is running on http://127.0.0.1:8050/\n",
      "\n",
      "Dash is running on http://127.0.0.1:8050/\n",
      "\n",
      "Dash is running on http://127.0.0.1:8050/\n",
      "\n",
      "Dash is running on http://127.0.0.1:8050/\n",
      "\n",
      " * Serving Flask app \"__main__\" (lazy loading)\n",
      " * Environment: production\n",
      "   WARNING: This is a development server. Do not use it in a production deployment.\n",
      "   Use a production WSGI server instead.\n",
      " * Debug mode: off\n"
     ]
    },
    {
     "ename": "OSError",
     "evalue": "[Errno 48] Address already in use",
     "output_type": "error",
     "traceback": [
      "\u001b[0;31m---------------------------------------------------------------------------\u001b[0m",
      "\u001b[0;31mOSError\u001b[0m                                   Traceback (most recent call last)",
      "\u001b[0;32m<ipython-input-209-1d0ff1d34fb3>\u001b[0m in \u001b[0;36m<module>\u001b[0;34m\u001b[0m\n\u001b[1;32m    120\u001b[0m \u001b[0;31m# #--------------------------------------------------------------\u001b[0m\u001b[0;34m\u001b[0m\u001b[0;34m\u001b[0m\u001b[0;34m\u001b[0m\u001b[0m\n\u001b[1;32m    121\u001b[0m \u001b[0;32mif\u001b[0m \u001b[0m__name__\u001b[0m \u001b[0;34m==\u001b[0m \u001b[0;34m'__main__'\u001b[0m\u001b[0;34m:\u001b[0m\u001b[0;34m\u001b[0m\u001b[0;34m\u001b[0m\u001b[0m\n\u001b[0;32m--> 122\u001b[0;31m     \u001b[0mapp\u001b[0m\u001b[0;34m.\u001b[0m\u001b[0mrun_server\u001b[0m\u001b[0;34m(\u001b[0m\u001b[0mdebug\u001b[0m\u001b[0;34m=\u001b[0m\u001b[0;32mFalse\u001b[0m\u001b[0;34m)\u001b[0m\u001b[0;34m\u001b[0m\u001b[0;34m\u001b[0m\u001b[0m\n\u001b[0m",
      "\u001b[0;32m~/opt/anaconda3/lib/python3.7/site-packages/dash/dash.py\u001b[0m in \u001b[0;36mrun_server\u001b[0;34m(self, host, port, proxy, debug, dev_tools_ui, dev_tools_props_check, dev_tools_serve_dev_bundles, dev_tools_hot_reload, dev_tools_hot_reload_interval, dev_tools_hot_reload_watch_interval, dev_tools_hot_reload_max_retry, dev_tools_silence_routes_logging, dev_tools_prune_errors, **flask_run_options)\u001b[0m\n\u001b[1;32m   1748\u001b[0m                     \u001b[0mextra_files\u001b[0m\u001b[0;34m.\u001b[0m\u001b[0mappend\u001b[0m\u001b[0;34m(\u001b[0m\u001b[0mpath\u001b[0m\u001b[0;34m)\u001b[0m\u001b[0;34m\u001b[0m\u001b[0;34m\u001b[0m\u001b[0m\n\u001b[1;32m   1749\u001b[0m \u001b[0;34m\u001b[0m\u001b[0m\n\u001b[0;32m-> 1750\u001b[0;31m         \u001b[0mself\u001b[0m\u001b[0;34m.\u001b[0m\u001b[0mserver\u001b[0m\u001b[0;34m.\u001b[0m\u001b[0mrun\u001b[0m\u001b[0;34m(\u001b[0m\u001b[0mhost\u001b[0m\u001b[0;34m=\u001b[0m\u001b[0mhost\u001b[0m\u001b[0;34m,\u001b[0m \u001b[0mport\u001b[0m\u001b[0;34m=\u001b[0m\u001b[0mport\u001b[0m\u001b[0;34m,\u001b[0m \u001b[0mdebug\u001b[0m\u001b[0;34m=\u001b[0m\u001b[0mdebug\u001b[0m\u001b[0;34m,\u001b[0m \u001b[0;34m**\u001b[0m\u001b[0mflask_run_options\u001b[0m\u001b[0;34m)\u001b[0m\u001b[0;34m\u001b[0m\u001b[0;34m\u001b[0m\u001b[0m\n\u001b[0m",
      "\u001b[0;32m~/opt/anaconda3/lib/python3.7/site-packages/flask/app.py\u001b[0m in \u001b[0;36mrun\u001b[0;34m(self, host, port, debug, load_dotenv, **options)\u001b[0m\n\u001b[1;32m    988\u001b[0m \u001b[0;34m\u001b[0m\u001b[0m\n\u001b[1;32m    989\u001b[0m         \u001b[0;32mtry\u001b[0m\u001b[0;34m:\u001b[0m\u001b[0;34m\u001b[0m\u001b[0;34m\u001b[0m\u001b[0m\n\u001b[0;32m--> 990\u001b[0;31m             \u001b[0mrun_simple\u001b[0m\u001b[0;34m(\u001b[0m\u001b[0mhost\u001b[0m\u001b[0;34m,\u001b[0m \u001b[0mport\u001b[0m\u001b[0;34m,\u001b[0m \u001b[0mself\u001b[0m\u001b[0;34m,\u001b[0m \u001b[0;34m**\u001b[0m\u001b[0moptions\u001b[0m\u001b[0;34m)\u001b[0m\u001b[0;34m\u001b[0m\u001b[0;34m\u001b[0m\u001b[0m\n\u001b[0m\u001b[1;32m    991\u001b[0m         \u001b[0;32mfinally\u001b[0m\u001b[0;34m:\u001b[0m\u001b[0;34m\u001b[0m\u001b[0;34m\u001b[0m\u001b[0m\n\u001b[1;32m    992\u001b[0m             \u001b[0;31m# reset the first request information if the development server\u001b[0m\u001b[0;34m\u001b[0m\u001b[0;34m\u001b[0m\u001b[0;34m\u001b[0m\u001b[0m\n",
      "\u001b[0;32m~/opt/anaconda3/lib/python3.7/site-packages/werkzeug/serving.py\u001b[0m in \u001b[0;36mrun_simple\u001b[0;34m(hostname, port, application, use_reloader, use_debugger, use_evalex, extra_files, reloader_interval, reloader_type, threaded, processes, request_handler, static_files, passthrough_errors, ssl_context)\u001b[0m\n\u001b[1;32m   1008\u001b[0m         \u001b[0mrun_with_reloader\u001b[0m\u001b[0;34m(\u001b[0m\u001b[0minner\u001b[0m\u001b[0;34m,\u001b[0m \u001b[0mextra_files\u001b[0m\u001b[0;34m,\u001b[0m \u001b[0mreloader_interval\u001b[0m\u001b[0;34m,\u001b[0m \u001b[0mreloader_type\u001b[0m\u001b[0;34m)\u001b[0m\u001b[0;34m\u001b[0m\u001b[0;34m\u001b[0m\u001b[0m\n\u001b[1;32m   1009\u001b[0m     \u001b[0;32melse\u001b[0m\u001b[0;34m:\u001b[0m\u001b[0;34m\u001b[0m\u001b[0;34m\u001b[0m\u001b[0m\n\u001b[0;32m-> 1010\u001b[0;31m         \u001b[0minner\u001b[0m\u001b[0;34m(\u001b[0m\u001b[0;34m)\u001b[0m\u001b[0;34m\u001b[0m\u001b[0;34m\u001b[0m\u001b[0m\n\u001b[0m\u001b[1;32m   1011\u001b[0m \u001b[0;34m\u001b[0m\u001b[0m\n\u001b[1;32m   1012\u001b[0m \u001b[0;34m\u001b[0m\u001b[0m\n",
      "\u001b[0;32m~/opt/anaconda3/lib/python3.7/site-packages/werkzeug/serving.py\u001b[0m in \u001b[0;36minner\u001b[0;34m()\u001b[0m\n\u001b[1;32m    961\u001b[0m             \u001b[0mpassthrough_errors\u001b[0m\u001b[0;34m,\u001b[0m\u001b[0;34m\u001b[0m\u001b[0;34m\u001b[0m\u001b[0m\n\u001b[1;32m    962\u001b[0m             \u001b[0mssl_context\u001b[0m\u001b[0;34m,\u001b[0m\u001b[0;34m\u001b[0m\u001b[0;34m\u001b[0m\u001b[0m\n\u001b[0;32m--> 963\u001b[0;31m             \u001b[0mfd\u001b[0m\u001b[0;34m=\u001b[0m\u001b[0mfd\u001b[0m\u001b[0;34m,\u001b[0m\u001b[0;34m\u001b[0m\u001b[0;34m\u001b[0m\u001b[0m\n\u001b[0m\u001b[1;32m    964\u001b[0m         )\n\u001b[1;32m    965\u001b[0m         \u001b[0;32mif\u001b[0m \u001b[0mfd\u001b[0m \u001b[0;32mis\u001b[0m \u001b[0;32mNone\u001b[0m\u001b[0;34m:\u001b[0m\u001b[0;34m\u001b[0m\u001b[0;34m\u001b[0m\u001b[0m\n",
      "\u001b[0;32m~/opt/anaconda3/lib/python3.7/site-packages/werkzeug/serving.py\u001b[0m in \u001b[0;36mmake_server\u001b[0;34m(host, port, app, threaded, processes, request_handler, passthrough_errors, ssl_context, fd)\u001b[0m\n\u001b[1;32m    804\u001b[0m     \u001b[0;32melif\u001b[0m \u001b[0mthreaded\u001b[0m\u001b[0;34m:\u001b[0m\u001b[0;34m\u001b[0m\u001b[0;34m\u001b[0m\u001b[0m\n\u001b[1;32m    805\u001b[0m         return ThreadedWSGIServer(\n\u001b[0;32m--> 806\u001b[0;31m             \u001b[0mhost\u001b[0m\u001b[0;34m,\u001b[0m \u001b[0mport\u001b[0m\u001b[0;34m,\u001b[0m \u001b[0mapp\u001b[0m\u001b[0;34m,\u001b[0m \u001b[0mrequest_handler\u001b[0m\u001b[0;34m,\u001b[0m \u001b[0mpassthrough_errors\u001b[0m\u001b[0;34m,\u001b[0m \u001b[0mssl_context\u001b[0m\u001b[0;34m,\u001b[0m \u001b[0mfd\u001b[0m\u001b[0;34m=\u001b[0m\u001b[0mfd\u001b[0m\u001b[0;34m\u001b[0m\u001b[0;34m\u001b[0m\u001b[0m\n\u001b[0m\u001b[1;32m    807\u001b[0m         )\n\u001b[1;32m    808\u001b[0m     \u001b[0;32melif\u001b[0m \u001b[0mprocesses\u001b[0m \u001b[0;34m>\u001b[0m \u001b[0;36m1\u001b[0m\u001b[0;34m:\u001b[0m\u001b[0;34m\u001b[0m\u001b[0;34m\u001b[0m\u001b[0m\n",
      "\u001b[0;32m~/opt/anaconda3/lib/python3.7/site-packages/werkzeug/serving.py\u001b[0m in \u001b[0;36m__init__\u001b[0;34m(self, host, port, app, handler, passthrough_errors, ssl_context, fd)\u001b[0m\n\u001b[1;32m    697\u001b[0m         \u001b[0;32mif\u001b[0m \u001b[0mself\u001b[0m\u001b[0;34m.\u001b[0m\u001b[0maddress_family\u001b[0m \u001b[0;34m==\u001b[0m \u001b[0maf_unix\u001b[0m \u001b[0;32mand\u001b[0m \u001b[0mos\u001b[0m\u001b[0;34m.\u001b[0m\u001b[0mpath\u001b[0m\u001b[0;34m.\u001b[0m\u001b[0mexists\u001b[0m\u001b[0;34m(\u001b[0m\u001b[0mserver_address\u001b[0m\u001b[0;34m)\u001b[0m\u001b[0;34m:\u001b[0m\u001b[0;34m\u001b[0m\u001b[0;34m\u001b[0m\u001b[0m\n\u001b[1;32m    698\u001b[0m             \u001b[0mos\u001b[0m\u001b[0;34m.\u001b[0m\u001b[0munlink\u001b[0m\u001b[0;34m(\u001b[0m\u001b[0mserver_address\u001b[0m\u001b[0;34m)\u001b[0m\u001b[0;34m\u001b[0m\u001b[0;34m\u001b[0m\u001b[0m\n\u001b[0;32m--> 699\u001b[0;31m         \u001b[0mHTTPServer\u001b[0m\u001b[0;34m.\u001b[0m\u001b[0m__init__\u001b[0m\u001b[0;34m(\u001b[0m\u001b[0mself\u001b[0m\u001b[0;34m,\u001b[0m \u001b[0mserver_address\u001b[0m\u001b[0;34m,\u001b[0m \u001b[0mhandler\u001b[0m\u001b[0;34m)\u001b[0m\u001b[0;34m\u001b[0m\u001b[0;34m\u001b[0m\u001b[0m\n\u001b[0m\u001b[1;32m    700\u001b[0m \u001b[0;34m\u001b[0m\u001b[0m\n\u001b[1;32m    701\u001b[0m         \u001b[0mself\u001b[0m\u001b[0;34m.\u001b[0m\u001b[0mapp\u001b[0m \u001b[0;34m=\u001b[0m \u001b[0mapp\u001b[0m\u001b[0;34m\u001b[0m\u001b[0;34m\u001b[0m\u001b[0m\n",
      "\u001b[0;32m~/opt/anaconda3/lib/python3.7/socketserver.py\u001b[0m in \u001b[0;36m__init__\u001b[0;34m(self, server_address, RequestHandlerClass, bind_and_activate)\u001b[0m\n\u001b[1;32m    450\u001b[0m         \u001b[0;32mif\u001b[0m \u001b[0mbind_and_activate\u001b[0m\u001b[0;34m:\u001b[0m\u001b[0;34m\u001b[0m\u001b[0;34m\u001b[0m\u001b[0m\n\u001b[1;32m    451\u001b[0m             \u001b[0;32mtry\u001b[0m\u001b[0;34m:\u001b[0m\u001b[0;34m\u001b[0m\u001b[0;34m\u001b[0m\u001b[0m\n\u001b[0;32m--> 452\u001b[0;31m                 \u001b[0mself\u001b[0m\u001b[0;34m.\u001b[0m\u001b[0mserver_bind\u001b[0m\u001b[0;34m(\u001b[0m\u001b[0;34m)\u001b[0m\u001b[0;34m\u001b[0m\u001b[0;34m\u001b[0m\u001b[0m\n\u001b[0m\u001b[1;32m    453\u001b[0m                 \u001b[0mself\u001b[0m\u001b[0;34m.\u001b[0m\u001b[0mserver_activate\u001b[0m\u001b[0;34m(\u001b[0m\u001b[0;34m)\u001b[0m\u001b[0;34m\u001b[0m\u001b[0;34m\u001b[0m\u001b[0m\n\u001b[1;32m    454\u001b[0m             \u001b[0;32mexcept\u001b[0m\u001b[0;34m:\u001b[0m\u001b[0;34m\u001b[0m\u001b[0;34m\u001b[0m\u001b[0m\n",
      "\u001b[0;32m~/opt/anaconda3/lib/python3.7/http/server.py\u001b[0m in \u001b[0;36mserver_bind\u001b[0;34m(self)\u001b[0m\n\u001b[1;32m    135\u001b[0m     \u001b[0;32mdef\u001b[0m \u001b[0mserver_bind\u001b[0m\u001b[0;34m(\u001b[0m\u001b[0mself\u001b[0m\u001b[0;34m)\u001b[0m\u001b[0;34m:\u001b[0m\u001b[0;34m\u001b[0m\u001b[0;34m\u001b[0m\u001b[0m\n\u001b[1;32m    136\u001b[0m         \u001b[0;34m\"\"\"Override server_bind to store the server name.\"\"\"\u001b[0m\u001b[0;34m\u001b[0m\u001b[0;34m\u001b[0m\u001b[0m\n\u001b[0;32m--> 137\u001b[0;31m         \u001b[0msocketserver\u001b[0m\u001b[0;34m.\u001b[0m\u001b[0mTCPServer\u001b[0m\u001b[0;34m.\u001b[0m\u001b[0mserver_bind\u001b[0m\u001b[0;34m(\u001b[0m\u001b[0mself\u001b[0m\u001b[0;34m)\u001b[0m\u001b[0;34m\u001b[0m\u001b[0;34m\u001b[0m\u001b[0m\n\u001b[0m\u001b[1;32m    138\u001b[0m         \u001b[0mhost\u001b[0m\u001b[0;34m,\u001b[0m \u001b[0mport\u001b[0m \u001b[0;34m=\u001b[0m \u001b[0mself\u001b[0m\u001b[0;34m.\u001b[0m\u001b[0mserver_address\u001b[0m\u001b[0;34m[\u001b[0m\u001b[0;34m:\u001b[0m\u001b[0;36m2\u001b[0m\u001b[0;34m]\u001b[0m\u001b[0;34m\u001b[0m\u001b[0;34m\u001b[0m\u001b[0m\n\u001b[1;32m    139\u001b[0m         \u001b[0mself\u001b[0m\u001b[0;34m.\u001b[0m\u001b[0mserver_name\u001b[0m \u001b[0;34m=\u001b[0m \u001b[0msocket\u001b[0m\u001b[0;34m.\u001b[0m\u001b[0mgetfqdn\u001b[0m\u001b[0;34m(\u001b[0m\u001b[0mhost\u001b[0m\u001b[0;34m)\u001b[0m\u001b[0;34m\u001b[0m\u001b[0;34m\u001b[0m\u001b[0m\n",
      "\u001b[0;32m~/opt/anaconda3/lib/python3.7/socketserver.py\u001b[0m in \u001b[0;36mserver_bind\u001b[0;34m(self)\u001b[0m\n\u001b[1;32m    464\u001b[0m         \u001b[0;32mif\u001b[0m \u001b[0mself\u001b[0m\u001b[0;34m.\u001b[0m\u001b[0mallow_reuse_address\u001b[0m\u001b[0;34m:\u001b[0m\u001b[0;34m\u001b[0m\u001b[0;34m\u001b[0m\u001b[0m\n\u001b[1;32m    465\u001b[0m             \u001b[0mself\u001b[0m\u001b[0;34m.\u001b[0m\u001b[0msocket\u001b[0m\u001b[0;34m.\u001b[0m\u001b[0msetsockopt\u001b[0m\u001b[0;34m(\u001b[0m\u001b[0msocket\u001b[0m\u001b[0;34m.\u001b[0m\u001b[0mSOL_SOCKET\u001b[0m\u001b[0;34m,\u001b[0m \u001b[0msocket\u001b[0m\u001b[0;34m.\u001b[0m\u001b[0mSO_REUSEADDR\u001b[0m\u001b[0;34m,\u001b[0m \u001b[0;36m1\u001b[0m\u001b[0;34m)\u001b[0m\u001b[0;34m\u001b[0m\u001b[0;34m\u001b[0m\u001b[0m\n\u001b[0;32m--> 466\u001b[0;31m         \u001b[0mself\u001b[0m\u001b[0;34m.\u001b[0m\u001b[0msocket\u001b[0m\u001b[0;34m.\u001b[0m\u001b[0mbind\u001b[0m\u001b[0;34m(\u001b[0m\u001b[0mself\u001b[0m\u001b[0;34m.\u001b[0m\u001b[0mserver_address\u001b[0m\u001b[0;34m)\u001b[0m\u001b[0;34m\u001b[0m\u001b[0;34m\u001b[0m\u001b[0m\n\u001b[0m\u001b[1;32m    467\u001b[0m         \u001b[0mself\u001b[0m\u001b[0;34m.\u001b[0m\u001b[0mserver_address\u001b[0m \u001b[0;34m=\u001b[0m \u001b[0mself\u001b[0m\u001b[0;34m.\u001b[0m\u001b[0msocket\u001b[0m\u001b[0;34m.\u001b[0m\u001b[0mgetsockname\u001b[0m\u001b[0;34m(\u001b[0m\u001b[0;34m)\u001b[0m\u001b[0;34m\u001b[0m\u001b[0;34m\u001b[0m\u001b[0m\n\u001b[1;32m    468\u001b[0m \u001b[0;34m\u001b[0m\u001b[0m\n",
      "\u001b[0;31mOSError\u001b[0m: [Errno 48] Address already in use"
     ]
    }
   ],
   "source": [
    "#Visualization of the distribution of recycle zones throughout NYC\n",
    "#This section is built on dash and plotly\n",
    "#Install dash and plotly packages on Anaconda to run\n",
    "#download the .csv file locally\n",
    "mapbox_access_token = 'pk.eyJ1Ijoic3JzeWVkMiIsImEiOiJja3J2N2VhazcwM3c3MndvMnY1MWR5OHc0In0.5KmPuNIXEoTtnlPzz0blXg'\n",
    "\n",
    "df = pd.read_csv(\"finalrecycling.csv\")\n",
    "\n",
    "app = dash.Dash(__name__)\n",
    "\n",
    "blackbold={'color':'black', 'font-weight': 'bold'}\n",
    "\n",
    "app.layout = html.Div([\n",
    "#---------------------------------------------------------------\n",
    "# Map_legen + Borough_checklist + Recycling_type_checklist + Web_link + Map\n",
    "    html.Div([\n",
    "        html.Div([\n",
    "            \n",
    "            # Borough_checklist\n",
    "            html.Label(children=['Borough: '], style=blackbold),\n",
    "            dcc.Checklist(id='boro_name',\n",
    "                    options=[{'label':str(b),'value':b} for b in sorted(df['boro'].unique())],\n",
    "                    value=[b for b in sorted(df['boro'].unique())],\n",
    "            ),\n",
    "\n",
    "            # Recycling_type_checklist\n",
    "            html.Label(children=['Looking to recycle: '], style=blackbold),\n",
    "            dcc.Checklist(id='recycling_type',\n",
    "                    options=[{'label':str(b),'value':b} for b in sorted(df['type'].unique())],\n",
    "                    value=[b for b in sorted(df['type'].unique())],\n",
    "            ),\n",
    "\n",
    "            # Web_link\n",
    "            html.Br(),\n",
    "            html.Pre(id='web_link', children=[],\n",
    "            style={'white-space': 'pre-wrap','word-break': 'break-all',\n",
    "                 'border': '1px solid black','text-align': 'center',\n",
    "                 'padding': '12px 12px 12px 12px', 'color':'blue',\n",
    "                 'margin-top': '3px'}\n",
    "            ),\n",
    "\n",
    "        ], className='three columns'\n",
    "        ),\n",
    "\n",
    "        # Map\n",
    "        html.Div([\n",
    "            dcc.Graph(id='graph', config={'displayModeBar': False, 'scrollZoom': True},\n",
    "                style={'background':'#00FC87','padding-bottom':'2px','padding-left':'2px','height':'100vh'}\n",
    "            )\n",
    "        ], className='nine columns'\n",
    "        ),\n",
    "\n",
    "    ], className='row'\n",
    "    ),\n",
    "\n",
    "], className='ten columns offset-by-one'\n",
    ")\n",
    "\n",
    "#---------------------------------------------------------------\n",
    "# Output of Graph\n",
    "@app.callback(Output('graph', 'figure'),\n",
    "              [Input('boro_name', 'value'),\n",
    "               Input('recycling_type', 'value')])\n",
    "\n",
    "def update_figure(chosen_boro,chosen_recycling):\n",
    "    df_sub = df[(df['boro'].isin(chosen_boro)) &\n",
    "                (df['type'].isin(chosen_recycling))]\n",
    "\n",
    "    # Create figure\n",
    "    locations=[go.Scattermapbox(\n",
    "                    lon = df_sub['longitude'],\n",
    "                    lat = df_sub['latitude'],\n",
    "                    mode='markers',\n",
    "                    marker={'color' : df_sub['color']},\n",
    "                    unselected={'marker' : {'opacity':1}},\n",
    "                    selected={'marker' : {'opacity':0.5, 'size':22}},\n",
    "                    hoverinfo='text',\n",
    "                    hovertext=df_sub['hov_txt'],\n",
    "                    \n",
    "    )]\n",
    "\n",
    "    # Return figure\n",
    "    return {\n",
    "        'data': locations,\n",
    "        'layout': go.Layout(\n",
    "            uirevision= 'foo', #preserves state of figure/map after callback activated\n",
    "            clickmode= 'event+select',\n",
    "            hovermode='closest',\n",
    "            hoverdistance=2,\n",
    "            title=dict(text=\"Recylcing Stations around NYC\",font=dict(size=45, color='brown')),\n",
    "            mapbox=dict(\n",
    "                accesstoken=mapbox_access_token,\n",
    "                bearing=25,\n",
    "                style='light',\n",
    "                center=dict(\n",
    "                    lat=40.80105,\n",
    "                    lon=-73.945155\n",
    "                ),\n",
    "                pitch=40,\n",
    "                zoom=11.5\n",
    "            ),\n",
    "        )\n",
    "    }\n",
    "#---------------------------------------------------------------\n",
    "# callback for Web_link\n",
    "@app.callback(\n",
    "    Output('web_link', 'children'),\n",
    "    [Input('graph', 'clickData')])\n",
    "def display_click_data(clickData):\n",
    "    if clickData is None:\n",
    "        return 'Hover on a bubble'\n",
    "    else:\n",
    "        # print (clickData)\n",
    "        the_link=clickData['points'][0]['customdata']\n",
    "        if the_link is None:\n",
    "            return 'No Website Available'\n",
    "        else:\n",
    "            return html.A(the_link, href=the_link, target=\"_blank\")\n",
    "# #--------------------------------------------------------------\n",
    "if __name__ == '__main__':\n",
    "    app.run_server(debug=False)"
   ]
  },
  {
   "cell_type": "markdown",
   "metadata": {},
   "source": [
    "# <font color = \"blue\" bold = true> Conclusion </font>\n",
    "\n",
    "### <font color = \"green\"> Brooklyn and Staten Island requires more recycling stations to be able to minimize the disparity in distribution of recycle stations. To be more specific, in both Boroughs, more compost and electronics type recycling station should be deployed which lacks more compared to the public recycling bins.</font>"
   ]
  },
  {
   "cell_type": "code",
   "execution_count": null,
   "metadata": {},
   "outputs": [],
   "source": []
  }
 ],
 "metadata": {
  "interpreter": {
   "hash": "42588fd11209419b7c81abe23e31a1d2101f60811b02170c268e57ebb57d5d9a"
  },
  "kernelspec": {
   "display_name": "Python 3",
   "language": "python",
   "name": "python3"
  },
  "language_info": {
   "codemirror_mode": {
    "name": "ipython",
    "version": 3
   },
   "file_extension": ".py",
   "mimetype": "text/x-python",
   "name": "python",
   "nbconvert_exporter": "python",
   "pygments_lexer": "ipython3",
   "version": "3.7.4"
  }
 },
 "nbformat": 4,
 "nbformat_minor": 1
}
